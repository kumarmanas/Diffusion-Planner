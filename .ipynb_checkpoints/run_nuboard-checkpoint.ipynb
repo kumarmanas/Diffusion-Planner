{
 "cells": [
  {
   "cell_type": "code",
   "execution_count": 1,
   "id": "72a97347-a048-4f5d-acd9-108d9bee95c7",
   "metadata": {},
   "outputs": [
    {
     "name": "stderr",
     "output_type": "stream",
     "text": [
      "INFO:nuplan.planning.script.builders.scenario_building_builder:Building AbstractScenarioBuilder...\n",
      "INFO:nuplan.planning.script.builders.scenario_building_builder:Building AbstractScenarioBuilder...DONE!\n",
      "INFO:nuplan.planning.nuboard.nuboard:Opening Bokeh application on http://localhost:6691/\n",
      "INFO:nuplan.planning.nuboard.nuboard:Async rendering is set to: True\n",
      "INFO:bokeh.server.server:Starting Bokeh server version 2.4.3 (running on Tornado 6.4.2)\n",
      "WARNING:bokeh.server.util:Host wildcard '*' will allow connections originating from multiple (or possibly all) hostnames or IPs. Use non-wildcard values to restrict access explicitly\n",
      "INFO:bokeh.server.tornado:User authentication hooks NOT provided (default user enabled)\n",
      "INFO:nuplan.planning.nuboard.base.simulation_tile:Minimum frame time=0.017 s\n",
      "INFO:tornado.access:200 GET / (172.17.0.1) 578.18ms\n",
      "INFO:tornado.access:200 GET / (172.17.0.1) 578.18ms\n",
      "INFO:tornado.access:200 GET /resource/spectre.min.css (172.17.0.1) 2.29ms\n",
      "INFO:tornado.access:200 GET /resource/spectre.min.css (172.17.0.1) 2.29ms\n",
      "INFO:tornado.access:200 GET /resource/spectre-exp.min.css (172.17.0.1) 0.65ms\n",
      "INFO:tornado.access:200 GET /resource/spectre-exp.min.css (172.17.0.1) 0.65ms\n",
      "INFO:tornado.access:200 GET /resource/spectre-icons.min.css (172.17.0.1) 0.68ms\n",
      "INFO:tornado.access:200 GET /resource/spectre-icons.min.css (172.17.0.1) 0.68ms\n",
      "INFO:tornado.access:200 GET /resource/css/overview.css (172.17.0.1) 0.76ms\n",
      "INFO:tornado.access:200 GET /resource/css/overview.css (172.17.0.1) 0.76ms\n",
      "INFO:tornado.access:200 GET /resource/style.css (172.17.0.1) 1.56ms\n",
      "INFO:tornado.access:200 GET /resource/style.css (172.17.0.1) 1.56ms\n",
      "INFO:tornado.access:200 GET /resource/css/scenario.css (172.17.0.1) 0.65ms\n",
      "INFO:tornado.access:200 GET /resource/css/scenario.css (172.17.0.1) 0.65ms\n",
      "INFO:tornado.access:200 GET /resource/css/cloud.css (172.17.0.1) 0.49ms\n",
      "INFO:tornado.access:200 GET /resource/css/cloud.css (172.17.0.1) 0.49ms\n",
      "INFO:tornado.access:200 GET /resource/css/histogram.css (172.17.0.1) 0.56ms\n",
      "INFO:tornado.access:200 GET /resource/css/histogram.css (172.17.0.1) 0.56ms\n",
      "INFO:tornado.access:200 GET /static/js/bokeh.min.js?v=3c61e952b808bb7e346ce828a565a5f23aaf7708d034fa9d0906403813355d45bb4e8d8b0b23a93f032c76831d4f0221846f28699c7f5147caa62e0d31668314 (172.17.0.1) 1.64ms\n",
      "INFO:tornado.access:200 GET /static/js/bokeh.min.js?v=3c61e952b808bb7e346ce828a565a5f23aaf7708d034fa9d0906403813355d45bb4e8d8b0b23a93f032c76831d4f0221846f28699c7f5147caa62e0d31668314 (172.17.0.1) 1.64ms\n",
      "INFO:tornado.access:200 GET /static/js/bokeh-tables.min.js?v=ae2903e57cf57f52819fdf4d938c648982b51c34f73b6e653a0f3bb3c8ab44f338505931ace43eafc1636e215492e2314acf54c54baffb47813b86b4923a7fe0 (172.17.0.1) 0.96ms\n",
      "INFO:tornado.access:200 GET /static/js/bokeh-tables.min.js?v=ae2903e57cf57f52819fdf4d938c648982b51c34f73b6e653a0f3bb3c8ab44f338505931ace43eafc1636e215492e2314acf54c54baffb47813b86b4923a7fe0 (172.17.0.1) 0.96ms\n",
      "INFO:tornado.access:200 GET /static/js/bokeh-gl.min.js?v=e5df31fd9010eacff0aa72d315264604b5e34972ba445acea6fce98080eecf33acf2d2986126360faaa5852813cffa16f6f6f4889923318300f062497c02da4e (172.17.0.1) 1.04ms\n",
      "INFO:tornado.access:200 GET /static/js/bokeh-gl.min.js?v=e5df31fd9010eacff0aa72d315264604b5e34972ba445acea6fce98080eecf33acf2d2986126360faaa5852813cffa16f6f6f4889923318300f062497c02da4e (172.17.0.1) 1.04ms\n",
      "INFO:tornado.access:200 GET /static/js/bokeh-widgets.min.js?v=8a1ff6f5aa0d967f4998d275803bbb111d928fd9f605ef9e1f30cfd021df0e77224ee3d13f83edb3a942f6e4ccc569ee5dd8951a8aa6cb600602463b90c65a87 (172.17.0.1) 1.91ms\n",
      "INFO:tornado.access:200 GET /static/js/bokeh-widgets.min.js?v=8a1ff6f5aa0d967f4998d275803bbb111d928fd9f605ef9e1f30cfd021df0e77224ee3d13f83edb3a942f6e4ccc569ee5dd8951a8aa6cb600602463b90c65a87 (172.17.0.1) 1.91ms\n",
      "INFO:tornado.access:200 GET /static/js/bokeh-mathjax.min.js?v=176c36fdbcd8fc1019fc828101a2804081a35baf4018d7f2633cd263156b593aa73112f400112b662daa0590138b74851bc91f1f2a5fbf5416ee8c876c3e0d0c (172.17.0.1) 2.36ms\n",
      "INFO:tornado.access:200 GET /static/js/bokeh-mathjax.min.js?v=176c36fdbcd8fc1019fc828101a2804081a35baf4018d7f2633cd263156b593aa73112f400112b662daa0590138b74851bc91f1f2a5fbf5416ee8c876c3e0d0c (172.17.0.1) 2.36ms\n",
      "INFO:tornado.access:200 GET /resource/scripts/utils.js (172.17.0.1) 0.68ms\n",
      "INFO:tornado.access:200 GET /resource/scripts/utils.js (172.17.0.1) 0.68ms\n",
      "INFO:tornado.access:200 GET /resource/motional_logo.png (172.17.0.1) 0.92ms\n",
      "INFO:tornado.access:200 GET /resource/motional_logo.png (172.17.0.1) 0.92ms\n",
      "INFO:tornado.access:101 GET /ws (172.17.0.1) 0.70ms\n",
      "INFO:tornado.access:101 GET /ws (172.17.0.1) 0.70ms\n",
      "INFO:bokeh.server.views.ws:WebSocket connection opened\n",
      "INFO:bokeh.server.views.ws:ServerConnection created\n",
      "WARNING:tornado.access:404 GET /favicon.ico (172.17.0.1) 0.53ms\n",
      "WARNING:tornado.access:404 GET /favicon.ico (172.17.0.1) 0.53ms\n",
      "INFO:bokeh.server.views.ws:WebSocket connection closed: code=1001, reason=None\n",
      "INFO:nuplan.planning.nuboard.base.simulation_tile:Minimum frame time=0.017 s\n",
      "INFO:tornado.access:200 GET / (172.17.0.1) 147.72ms\n",
      "INFO:tornado.access:200 GET / (172.17.0.1) 147.72ms\n",
      "INFO:tornado.access:101 GET /ws (172.17.0.1) 0.81ms\n",
      "INFO:tornado.access:101 GET /ws (172.17.0.1) 0.81ms\n",
      "INFO:bokeh.server.views.ws:WebSocket connection opened\n",
      "INFO:bokeh.server.views.ws:ServerConnection created\n",
      "INFO:bokeh.server.views.ws:WebSocket connection closed: code=1001, reason=None\n"
     ]
    },
    {
     "ename": "KeyboardInterrupt",
     "evalue": "",
     "output_type": "error",
     "traceback": [
      "\u001b[0;31m---------------------------------------------------------------------------\u001b[0m",
      "\u001b[0;31mKeyboardInterrupt\u001b[0m                         Traceback (most recent call last)",
      "Cell \u001b[0;32mIn[1], line 42\u001b[0m\n\u001b[1;32m     40\u001b[0m \u001b[38;5;66;03m# Run nuBoard\u001b[39;00m\n\u001b[1;32m     41\u001b[0m \u001b[38;5;28;01mfrom\u001b[39;00m\u001b[38;5;250m \u001b[39m\u001b[38;5;21;01mnuplan\u001b[39;00m\u001b[38;5;21;01m.\u001b[39;00m\u001b[38;5;21;01mplanning\u001b[39;00m\u001b[38;5;21;01m.\u001b[39;00m\u001b[38;5;21;01mscript\u001b[39;00m\u001b[38;5;21;01m.\u001b[39;00m\u001b[38;5;21;01mrun_nuboard\u001b[39;00m\u001b[38;5;250m \u001b[39m\u001b[38;5;28;01mimport\u001b[39;00m main \u001b[38;5;28;01mas\u001b[39;00m main_nuboard\n\u001b[0;32m---> 42\u001b[0m \u001b[43mmain_nuboard\u001b[49m\u001b[43m(\u001b[49m\u001b[43mcfg\u001b[49m\u001b[43m)\u001b[49m\n\u001b[1;32m     43\u001b[0m \u001b[38;5;66;03m#to run it via docker do this:\u001b[39;00m\n\u001b[1;32m     44\u001b[0m \u001b[38;5;66;03m#ssh -J uieid@frtu -L 6691:localhost:6691 kumar@aicenter00x -- from outside\u001b[39;00m\n\u001b[1;32m     45\u001b[0m \u001b[38;5;66;03m#ssh -J uieid@frd -L 6691:localhost:6691 kumar@aicenter008 -- from inside cluster\u001b[39;00m\n",
      "File \u001b[0;32m/usr/local/lib/python3.9/dist-packages/hydra/main.py:44\u001b[0m, in \u001b[0;36mmain.<locals>.main_decorator.<locals>.decorated_main\u001b[0;34m(cfg_passthrough)\u001b[0m\n\u001b[1;32m     41\u001b[0m \u001b[38;5;129m@functools\u001b[39m\u001b[38;5;241m.\u001b[39mwraps(task_function)\n\u001b[1;32m     42\u001b[0m \u001b[38;5;28;01mdef\u001b[39;00m\u001b[38;5;250m \u001b[39m\u001b[38;5;21mdecorated_main\u001b[39m(cfg_passthrough: Optional[DictConfig] \u001b[38;5;241m=\u001b[39m \u001b[38;5;28;01mNone\u001b[39;00m) \u001b[38;5;241m-\u001b[39m\u001b[38;5;241m>\u001b[39m Any:\n\u001b[1;32m     43\u001b[0m     \u001b[38;5;28;01mif\u001b[39;00m cfg_passthrough \u001b[38;5;129;01mis\u001b[39;00m \u001b[38;5;129;01mnot\u001b[39;00m \u001b[38;5;28;01mNone\u001b[39;00m:\n\u001b[0;32m---> 44\u001b[0m         \u001b[38;5;28;01mreturn\u001b[39;00m \u001b[43mtask_function\u001b[49m\u001b[43m(\u001b[49m\u001b[43mcfg_passthrough\u001b[49m\u001b[43m)\u001b[49m\n\u001b[1;32m     45\u001b[0m     \u001b[38;5;28;01melse\u001b[39;00m:\n\u001b[1;32m     46\u001b[0m         args \u001b[38;5;241m=\u001b[39m get_args_parser()\n",
      "File \u001b[0;32m/workspace/nuplan-devkit/nuplan/planning/script/run_nuboard.py:75\u001b[0m, in \u001b[0;36mmain\u001b[0;34m(cfg)\u001b[0m\n\u001b[1;32m     70\u001b[0m \u001b[38;5;250m\u001b[39m\u001b[38;5;124;03m\"\"\"\u001b[39;00m\n\u001b[1;32m     71\u001b[0m \u001b[38;5;124;03mExecute all available challenges simultaneously on the same scenario.\u001b[39;00m\n\u001b[1;32m     72\u001b[0m \u001b[38;5;124;03m:param cfg: DictConfig. Configuration that is used to run the experiment.\u001b[39;00m\n\u001b[1;32m     73\u001b[0m \u001b[38;5;124;03m\"\"\"\u001b[39;00m\n\u001b[1;32m     74\u001b[0m nuboard \u001b[38;5;241m=\u001b[39m initialize_nuboard(cfg)\n\u001b[0;32m---> 75\u001b[0m \u001b[43mnuboard\u001b[49m\u001b[38;5;241;43m.\u001b[39;49m\u001b[43mrun\u001b[49m\u001b[43m(\u001b[49m\u001b[43m)\u001b[49m\n",
      "File \u001b[0;32m/workspace/nuplan-devkit/nuplan/planning/nuboard/nuboard.py:112\u001b[0m, in \u001b[0;36mNuBoard.run\u001b[0;34m(self)\u001b[0m\n\u001b[1;32m    110\u001b[0m \u001b[38;5;66;03m# Catch RuntimeError in jupyter notebook\u001b[39;00m\n\u001b[1;32m    111\u001b[0m \u001b[38;5;28;01mtry\u001b[39;00m:\n\u001b[0;32m--> 112\u001b[0m     \u001b[43mio_loop\u001b[49m\u001b[38;5;241;43m.\u001b[39;49m\u001b[43mstart\u001b[49m\u001b[43m(\u001b[49m\u001b[43m)\u001b[49m\n\u001b[1;32m    113\u001b[0m \u001b[38;5;28;01mexcept\u001b[39;00m \u001b[38;5;167;01mRuntimeError\u001b[39;00m \u001b[38;5;28;01mas\u001b[39;00m e:\n\u001b[1;32m    114\u001b[0m     logger\u001b[38;5;241m.\u001b[39mwarning(\u001b[38;5;124mf\u001b[39m\u001b[38;5;124m\"\u001b[39m\u001b[38;5;132;01m{\u001b[39;00me\u001b[38;5;132;01m}\u001b[39;00m\u001b[38;5;124m\"\u001b[39m)\n",
      "File \u001b[0;32m/usr/local/lib/python3.9/dist-packages/tornado/platform/asyncio.py:205\u001b[0m, in \u001b[0;36mBaseAsyncIOLoop.start\u001b[0;34m(self)\u001b[0m\n\u001b[1;32m    204\u001b[0m \u001b[38;5;28;01mdef\u001b[39;00m\u001b[38;5;250m \u001b[39m\u001b[38;5;21mstart\u001b[39m(\u001b[38;5;28mself\u001b[39m) \u001b[38;5;241m-\u001b[39m\u001b[38;5;241m>\u001b[39m \u001b[38;5;28;01mNone\u001b[39;00m:\n\u001b[0;32m--> 205\u001b[0m     \u001b[38;5;28;43mself\u001b[39;49m\u001b[38;5;241;43m.\u001b[39;49m\u001b[43masyncio_loop\u001b[49m\u001b[38;5;241;43m.\u001b[39;49m\u001b[43mrun_forever\u001b[49m\u001b[43m(\u001b[49m\u001b[43m)\u001b[49m\n",
      "File \u001b[0;32m/usr/local/lib/python3.9/dist-packages/nest_asyncio.py:81\u001b[0m, in \u001b[0;36m_patch_loop.<locals>.run_forever\u001b[0;34m(self)\u001b[0m\n\u001b[1;32m     79\u001b[0m \u001b[38;5;28;01mwith\u001b[39;00m manage_run(\u001b[38;5;28mself\u001b[39m), manage_asyncgens(\u001b[38;5;28mself\u001b[39m):\n\u001b[1;32m     80\u001b[0m     \u001b[38;5;28;01mwhile\u001b[39;00m \u001b[38;5;28;01mTrue\u001b[39;00m:\n\u001b[0;32m---> 81\u001b[0m         \u001b[38;5;28;43mself\u001b[39;49m\u001b[38;5;241;43m.\u001b[39;49m\u001b[43m_run_once\u001b[49m\u001b[43m(\u001b[49m\u001b[43m)\u001b[49m\n\u001b[1;32m     82\u001b[0m         \u001b[38;5;28;01mif\u001b[39;00m \u001b[38;5;28mself\u001b[39m\u001b[38;5;241m.\u001b[39m_stopping:\n\u001b[1;32m     83\u001b[0m             \u001b[38;5;28;01mbreak\u001b[39;00m\n",
      "File \u001b[0;32m/usr/local/lib/python3.9/dist-packages/nest_asyncio.py:115\u001b[0m, in \u001b[0;36m_patch_loop.<locals>._run_once\u001b[0;34m(self)\u001b[0m\n\u001b[1;32m    108\u001b[0m     heappop(scheduled)\n\u001b[1;32m    110\u001b[0m timeout \u001b[38;5;241m=\u001b[39m (\n\u001b[1;32m    111\u001b[0m     \u001b[38;5;241m0\u001b[39m \u001b[38;5;28;01mif\u001b[39;00m ready \u001b[38;5;129;01mor\u001b[39;00m \u001b[38;5;28mself\u001b[39m\u001b[38;5;241m.\u001b[39m_stopping\n\u001b[1;32m    112\u001b[0m     \u001b[38;5;28;01melse\u001b[39;00m \u001b[38;5;28mmin\u001b[39m(\u001b[38;5;28mmax\u001b[39m(\n\u001b[1;32m    113\u001b[0m         scheduled[\u001b[38;5;241m0\u001b[39m]\u001b[38;5;241m.\u001b[39m_when \u001b[38;5;241m-\u001b[39m \u001b[38;5;28mself\u001b[39m\u001b[38;5;241m.\u001b[39mtime(), \u001b[38;5;241m0\u001b[39m), \u001b[38;5;241m86400\u001b[39m) \u001b[38;5;28;01mif\u001b[39;00m scheduled\n\u001b[1;32m    114\u001b[0m     \u001b[38;5;28;01melse\u001b[39;00m \u001b[38;5;28;01mNone\u001b[39;00m)\n\u001b[0;32m--> 115\u001b[0m event_list \u001b[38;5;241m=\u001b[39m \u001b[38;5;28;43mself\u001b[39;49m\u001b[38;5;241;43m.\u001b[39;49m\u001b[43m_selector\u001b[49m\u001b[38;5;241;43m.\u001b[39;49m\u001b[43mselect\u001b[49m\u001b[43m(\u001b[49m\u001b[43mtimeout\u001b[49m\u001b[43m)\u001b[49m\n\u001b[1;32m    116\u001b[0m \u001b[38;5;28mself\u001b[39m\u001b[38;5;241m.\u001b[39m_process_events(event_list)\n\u001b[1;32m    118\u001b[0m end_time \u001b[38;5;241m=\u001b[39m \u001b[38;5;28mself\u001b[39m\u001b[38;5;241m.\u001b[39mtime() \u001b[38;5;241m+\u001b[39m \u001b[38;5;28mself\u001b[39m\u001b[38;5;241m.\u001b[39m_clock_resolution\n",
      "File \u001b[0;32m/usr/lib/python3.9/selectors.py:469\u001b[0m, in \u001b[0;36mEpollSelector.select\u001b[0;34m(self, timeout)\u001b[0m\n\u001b[1;32m    467\u001b[0m ready \u001b[38;5;241m=\u001b[39m []\n\u001b[1;32m    468\u001b[0m \u001b[38;5;28;01mtry\u001b[39;00m:\n\u001b[0;32m--> 469\u001b[0m     fd_event_list \u001b[38;5;241m=\u001b[39m \u001b[38;5;28;43mself\u001b[39;49m\u001b[38;5;241;43m.\u001b[39;49m\u001b[43m_selector\u001b[49m\u001b[38;5;241;43m.\u001b[39;49m\u001b[43mpoll\u001b[49m\u001b[43m(\u001b[49m\u001b[43mtimeout\u001b[49m\u001b[43m,\u001b[49m\u001b[43m \u001b[49m\u001b[43mmax_ev\u001b[49m\u001b[43m)\u001b[49m\n\u001b[1;32m    470\u001b[0m \u001b[38;5;28;01mexcept\u001b[39;00m \u001b[38;5;167;01mInterruptedError\u001b[39;00m:\n\u001b[1;32m    471\u001b[0m     \u001b[38;5;28;01mreturn\u001b[39;00m ready\n",
      "\u001b[0;31mKeyboardInterrupt\u001b[0m: "
     ]
    }
   ],
   "source": [
    "import os\n",
    "from pathlib import Path\n",
    "import tempfile\n",
    "import hydra\n",
    "import sys \n",
    "import os\n",
    "RESULT_FOLDER = \"/workspace/experiments/exp/simulation/closed_loop_nonreactive_agents/diffusion_planner_guidance/val14-collision/collision/model_2025-04-23-21-59-10/runner_report.parquet\"\n",
    "env_variables = {\n",
    "    \"NUPLAN_DEVKIT_ROOT\": \"/workspace/Diffusion-Planner/nuplan-devkit\",\n",
    "    \"NUPLAN_DATA_ROOT\": \"/datasets\",\n",
    "    \"NUPLAN_MAPS_ROOT\": \"/datasets/nuplan/maps\",\n",
    "    \"NUPLAN_EXP_ROOT\": \"/workspace/experiments\",\n",
    "    \"NUPLAN_DB_FILES\": \"/datasets/nuplan/nuplan-v1.1/splits/val\",\n",
    "    \"NUPLAN_SIMULATION_ALLOW_ANY_BUILDER\": \"1\"\n",
    "}\n",
    "\n",
    "for k, v in env_variables.items():\n",
    "    os.environ[k] = v\n",
    "\n",
    "# Location of path with all nuBoard configs\n",
    "CONFIG_PATH = '../nuplan-devkit/nuplan/planning/script/config/nuboard'\n",
    "CONFIG_NAME = 'default_nuboard'\n",
    "\n",
    "# Initialize configuration management system\n",
    "hydra.core.global_hydra.GlobalHydra.instance().clear()\n",
    "hydra.initialize(config_path=CONFIG_PATH)\n",
    "\n",
    "ml_planner_simulation_folder = RESULT_FOLDER\n",
    "ml_planner_simulation_folder = [dp for dp, _, fn in os.walk(ml_planner_simulation_folder) if True in ['.nuboard' in x for x in fn]]\n",
    "\n",
    "# Compose the configuration with explicitly set database path\n",
    "cfg = hydra.compose(config_name=CONFIG_NAME, overrides=[\n",
    "    'scenario_builder=nuplan',\n",
    "    'scenario_builder.db_files=/datasets/nuplan/nuplan-v1.1/splits/val',\n",
    "    f'simulation_path={ml_planner_simulation_folder}',\n",
    "    'hydra.searchpath=[pkg://diffusion_planner.config.scenario_filter, pkg://diffusion_planner.config, pkg://nuplan.planning.script.config.common, pkg://nuplan.planning.script.experiments]',\n",
    "    'port_number=6691',\n",
    "    \n",
    "])\n",
    "# Run nuBoard\n",
    "from nuplan.planning.script.run_nuboard import main as main_nuboard\n",
    "main_nuboard(cfg)\n",
    "#to run it via docker do this:\n",
    "#ssh -J uieid@frtu -L 6691:localhost:6691 kumar@aicenter00x -- from outside\n",
    "#ssh -J uieid@frd -L 6691:localhost:6691 kumar@aicenter008 -- from inside cluster"
   ]
  },
  {
   "cell_type": "code",
   "execution_count": null,
   "id": "464a46fc-0d6e-4b7a-ab6f-c84eff0e50fd",
   "metadata": {},
   "outputs": [],
   "source": [
    "! pip install pandas pyarrow"
   ]
  },
  {
   "cell_type": "code",
   "execution_count": 17,
   "id": "ffd5b894-dc2a-4fdd-a712-e2a9ab29023f",
   "metadata": {},
   "outputs": [
    {
     "ename": "FileNotFoundError",
     "evalue": "[Errno 2] No such file or directory: '/workspace/experiments/exp/simulation/closed_loop_nonreactive_agents/diffusion_planner/val14/diffusion_planner_release/model_2025-04-09-17-29-08/aggregator_metric/closed_loop_nonreactive_agents_weighted_average_metrics_2025.04.23.21.59.18.parquet'",
     "output_type": "error",
     "traceback": [
      "\u001b[0;31m---------------------------------------------------------------------------\u001b[0m",
      "\u001b[0;31mFileNotFoundError\u001b[0m                         Traceback (most recent call last)",
      "Cell \u001b[0;32mIn[17], line 7\u001b[0m\n\u001b[1;32m      4\u001b[0m file_path \u001b[38;5;241m=\u001b[39m \u001b[38;5;124m\"\u001b[39m\u001b[38;5;124m/workspace/experiments/exp/simulation/closed_loop_nonreactive_agents/diffusion_planner/val14/diffusion_planner_release/model_2025-04-09-17-29-08/aggregator_metric/closed_loop_nonreactive_agents_weighted_average_metrics_2025.04.23.21.59.18.parquet\u001b[39m\u001b[38;5;124m\"\u001b[39m\n\u001b[1;32m      6\u001b[0m \u001b[38;5;66;03m# Load the parquet file\u001b[39;00m\n\u001b[0;32m----> 7\u001b[0m df \u001b[38;5;241m=\u001b[39m \u001b[43mpd\u001b[49m\u001b[38;5;241;43m.\u001b[39;49m\u001b[43mread_parquet\u001b[49m\u001b[43m(\u001b[49m\u001b[43mfile_path\u001b[49m\u001b[43m)\u001b[49m\n\u001b[1;32m      9\u001b[0m \u001b[38;5;66;03m# Show the first few rows\u001b[39;00m\n\u001b[1;32m     10\u001b[0m \u001b[38;5;28mprint\u001b[39m(df\u001b[38;5;241m.\u001b[39mhead())\n",
      "File \u001b[0;32m/usr/local/lib/python3.9/dist-packages/pandas/io/parquet.py:667\u001b[0m, in \u001b[0;36mread_parquet\u001b[0;34m(path, engine, columns, storage_options, use_nullable_dtypes, dtype_backend, filesystem, filters, **kwargs)\u001b[0m\n\u001b[1;32m    664\u001b[0m     use_nullable_dtypes \u001b[38;5;241m=\u001b[39m \u001b[38;5;28;01mFalse\u001b[39;00m\n\u001b[1;32m    665\u001b[0m check_dtype_backend(dtype_backend)\n\u001b[0;32m--> 667\u001b[0m \u001b[38;5;28;01mreturn\u001b[39;00m \u001b[43mimpl\u001b[49m\u001b[38;5;241;43m.\u001b[39;49m\u001b[43mread\u001b[49m\u001b[43m(\u001b[49m\n\u001b[1;32m    668\u001b[0m \u001b[43m    \u001b[49m\u001b[43mpath\u001b[49m\u001b[43m,\u001b[49m\n\u001b[1;32m    669\u001b[0m \u001b[43m    \u001b[49m\u001b[43mcolumns\u001b[49m\u001b[38;5;241;43m=\u001b[39;49m\u001b[43mcolumns\u001b[49m\u001b[43m,\u001b[49m\n\u001b[1;32m    670\u001b[0m \u001b[43m    \u001b[49m\u001b[43mfilters\u001b[49m\u001b[38;5;241;43m=\u001b[39;49m\u001b[43mfilters\u001b[49m\u001b[43m,\u001b[49m\n\u001b[1;32m    671\u001b[0m \u001b[43m    \u001b[49m\u001b[43mstorage_options\u001b[49m\u001b[38;5;241;43m=\u001b[39;49m\u001b[43mstorage_options\u001b[49m\u001b[43m,\u001b[49m\n\u001b[1;32m    672\u001b[0m \u001b[43m    \u001b[49m\u001b[43muse_nullable_dtypes\u001b[49m\u001b[38;5;241;43m=\u001b[39;49m\u001b[43muse_nullable_dtypes\u001b[49m\u001b[43m,\u001b[49m\n\u001b[1;32m    673\u001b[0m \u001b[43m    \u001b[49m\u001b[43mdtype_backend\u001b[49m\u001b[38;5;241;43m=\u001b[39;49m\u001b[43mdtype_backend\u001b[49m\u001b[43m,\u001b[49m\n\u001b[1;32m    674\u001b[0m \u001b[43m    \u001b[49m\u001b[43mfilesystem\u001b[49m\u001b[38;5;241;43m=\u001b[39;49m\u001b[43mfilesystem\u001b[49m\u001b[43m,\u001b[49m\n\u001b[1;32m    675\u001b[0m \u001b[43m    \u001b[49m\u001b[38;5;241;43m*\u001b[39;49m\u001b[38;5;241;43m*\u001b[39;49m\u001b[43mkwargs\u001b[49m\u001b[43m,\u001b[49m\n\u001b[1;32m    676\u001b[0m \u001b[43m\u001b[49m\u001b[43m)\u001b[49m\n",
      "File \u001b[0;32m/usr/local/lib/python3.9/dist-packages/pandas/io/parquet.py:267\u001b[0m, in \u001b[0;36mPyArrowImpl.read\u001b[0;34m(self, path, columns, filters, use_nullable_dtypes, dtype_backend, storage_options, filesystem, **kwargs)\u001b[0m\n\u001b[1;32m    264\u001b[0m \u001b[38;5;28;01mif\u001b[39;00m manager \u001b[38;5;241m==\u001b[39m \u001b[38;5;124m\"\u001b[39m\u001b[38;5;124marray\u001b[39m\u001b[38;5;124m\"\u001b[39m:\n\u001b[1;32m    265\u001b[0m     to_pandas_kwargs[\u001b[38;5;124m\"\u001b[39m\u001b[38;5;124msplit_blocks\u001b[39m\u001b[38;5;124m\"\u001b[39m] \u001b[38;5;241m=\u001b[39m \u001b[38;5;28;01mTrue\u001b[39;00m  \u001b[38;5;66;03m# type: ignore[assignment]\u001b[39;00m\n\u001b[0;32m--> 267\u001b[0m path_or_handle, handles, filesystem \u001b[38;5;241m=\u001b[39m \u001b[43m_get_path_or_handle\u001b[49m\u001b[43m(\u001b[49m\n\u001b[1;32m    268\u001b[0m \u001b[43m    \u001b[49m\u001b[43mpath\u001b[49m\u001b[43m,\u001b[49m\n\u001b[1;32m    269\u001b[0m \u001b[43m    \u001b[49m\u001b[43mfilesystem\u001b[49m\u001b[43m,\u001b[49m\n\u001b[1;32m    270\u001b[0m \u001b[43m    \u001b[49m\u001b[43mstorage_options\u001b[49m\u001b[38;5;241;43m=\u001b[39;49m\u001b[43mstorage_options\u001b[49m\u001b[43m,\u001b[49m\n\u001b[1;32m    271\u001b[0m \u001b[43m    \u001b[49m\u001b[43mmode\u001b[49m\u001b[38;5;241;43m=\u001b[39;49m\u001b[38;5;124;43m\"\u001b[39;49m\u001b[38;5;124;43mrb\u001b[39;49m\u001b[38;5;124;43m\"\u001b[39;49m\u001b[43m,\u001b[49m\n\u001b[1;32m    272\u001b[0m \u001b[43m\u001b[49m\u001b[43m)\u001b[49m\n\u001b[1;32m    273\u001b[0m \u001b[38;5;28;01mtry\u001b[39;00m:\n\u001b[1;32m    274\u001b[0m     pa_table \u001b[38;5;241m=\u001b[39m \u001b[38;5;28mself\u001b[39m\u001b[38;5;241m.\u001b[39mapi\u001b[38;5;241m.\u001b[39mparquet\u001b[38;5;241m.\u001b[39mread_table(\n\u001b[1;32m    275\u001b[0m         path_or_handle,\n\u001b[1;32m    276\u001b[0m         columns\u001b[38;5;241m=\u001b[39mcolumns,\n\u001b[0;32m   (...)\u001b[0m\n\u001b[1;32m    279\u001b[0m         \u001b[38;5;241m*\u001b[39m\u001b[38;5;241m*\u001b[39mkwargs,\n\u001b[1;32m    280\u001b[0m     )\n",
      "File \u001b[0;32m/usr/local/lib/python3.9/dist-packages/pandas/io/parquet.py:140\u001b[0m, in \u001b[0;36m_get_path_or_handle\u001b[0;34m(path, fs, storage_options, mode, is_dir)\u001b[0m\n\u001b[1;32m    130\u001b[0m handles \u001b[38;5;241m=\u001b[39m \u001b[38;5;28;01mNone\u001b[39;00m\n\u001b[1;32m    131\u001b[0m \u001b[38;5;28;01mif\u001b[39;00m (\n\u001b[1;32m    132\u001b[0m     \u001b[38;5;129;01mnot\u001b[39;00m fs\n\u001b[1;32m    133\u001b[0m     \u001b[38;5;129;01mand\u001b[39;00m \u001b[38;5;129;01mnot\u001b[39;00m is_dir\n\u001b[0;32m   (...)\u001b[0m\n\u001b[1;32m    138\u001b[0m     \u001b[38;5;66;03m# fsspec resources can also point to directories\u001b[39;00m\n\u001b[1;32m    139\u001b[0m     \u001b[38;5;66;03m# this branch is used for example when reading from non-fsspec URLs\u001b[39;00m\n\u001b[0;32m--> 140\u001b[0m     handles \u001b[38;5;241m=\u001b[39m \u001b[43mget_handle\u001b[49m\u001b[43m(\u001b[49m\n\u001b[1;32m    141\u001b[0m \u001b[43m        \u001b[49m\u001b[43mpath_or_handle\u001b[49m\u001b[43m,\u001b[49m\u001b[43m \u001b[49m\u001b[43mmode\u001b[49m\u001b[43m,\u001b[49m\u001b[43m \u001b[49m\u001b[43mis_text\u001b[49m\u001b[38;5;241;43m=\u001b[39;49m\u001b[38;5;28;43;01mFalse\u001b[39;49;00m\u001b[43m,\u001b[49m\u001b[43m \u001b[49m\u001b[43mstorage_options\u001b[49m\u001b[38;5;241;43m=\u001b[39;49m\u001b[43mstorage_options\u001b[49m\n\u001b[1;32m    142\u001b[0m \u001b[43m    \u001b[49m\u001b[43m)\u001b[49m\n\u001b[1;32m    143\u001b[0m     fs \u001b[38;5;241m=\u001b[39m \u001b[38;5;28;01mNone\u001b[39;00m\n\u001b[1;32m    144\u001b[0m     path_or_handle \u001b[38;5;241m=\u001b[39m handles\u001b[38;5;241m.\u001b[39mhandle\n",
      "File \u001b[0;32m/usr/local/lib/python3.9/dist-packages/pandas/io/common.py:882\u001b[0m, in \u001b[0;36mget_handle\u001b[0;34m(path_or_buf, mode, encoding, compression, memory_map, is_text, errors, storage_options)\u001b[0m\n\u001b[1;32m    873\u001b[0m         handle \u001b[38;5;241m=\u001b[39m \u001b[38;5;28mopen\u001b[39m(\n\u001b[1;32m    874\u001b[0m             handle,\n\u001b[1;32m    875\u001b[0m             ioargs\u001b[38;5;241m.\u001b[39mmode,\n\u001b[0;32m   (...)\u001b[0m\n\u001b[1;32m    878\u001b[0m             newline\u001b[38;5;241m=\u001b[39m\u001b[38;5;124m\"\u001b[39m\u001b[38;5;124m\"\u001b[39m,\n\u001b[1;32m    879\u001b[0m         )\n\u001b[1;32m    880\u001b[0m     \u001b[38;5;28;01melse\u001b[39;00m:\n\u001b[1;32m    881\u001b[0m         \u001b[38;5;66;03m# Binary mode\u001b[39;00m\n\u001b[0;32m--> 882\u001b[0m         handle \u001b[38;5;241m=\u001b[39m \u001b[38;5;28;43mopen\u001b[39;49m\u001b[43m(\u001b[49m\u001b[43mhandle\u001b[49m\u001b[43m,\u001b[49m\u001b[43m \u001b[49m\u001b[43mioargs\u001b[49m\u001b[38;5;241;43m.\u001b[39;49m\u001b[43mmode\u001b[49m\u001b[43m)\u001b[49m\n\u001b[1;32m    883\u001b[0m     handles\u001b[38;5;241m.\u001b[39mappend(handle)\n\u001b[1;32m    885\u001b[0m \u001b[38;5;66;03m# Convert BytesIO or file objects passed with an encoding\u001b[39;00m\n",
      "\u001b[0;31mFileNotFoundError\u001b[0m: [Errno 2] No such file or directory: '/workspace/experiments/exp/simulation/closed_loop_nonreactive_agents/diffusion_planner/val14/diffusion_planner_release/model_2025-04-09-17-29-08/aggregator_metric/closed_loop_nonreactive_agents_weighted_average_metrics_2025.04.23.21.59.18.parquet'"
     ]
    }
   ],
   "source": [
    "import pandas as pd\n",
    "\n",
    "# Replace with your actual file path\n",
    "file_path = \"/workspace/experiments/exp/simulation/closed_loop_nonreactive_agents/diffusion_planner/val14/diffusion_planner_release/model_2025-04-09-17-29-08/aggregator_metric/closed_loop_nonreactive_agents_weighted_average_metrics_2025.04.23.21.59.18.parquet\"\n",
    "\n",
    "# Load the parquet file\n",
    "df = pd.read_parquet(file_path)\n",
    "\n",
    "# Show the first few rows\n",
    "print(df.head())\n",
    "\n",
    "# Print the available columns\n",
    "print(df.columns)\n",
    "\n"
   ]
  },
  {
   "cell_type": "code",
   "execution_count": 18,
   "id": "95b718f0-f297-4298-a937-7b72bd0c6525",
   "metadata": {
    "scrolled": true
   },
   "outputs": [],
   "source": [
    "import pandas as pd\n",
    "\n",
    "parquet_path = (\n",
    "    \"/workspace/experiments/exp/simulation/closed_loop_nonreactive_agents/diffusion_planner/val14/diffusion_planner_release/model_2025-04-23-21-59-10/aggregator_metric/closed_loop_nonreactive_agents_weighted_average_metrics_2025.04.23.21.59.18.parquet\"\n",
    ")\n",
    "df = pd.read_parquet(parquet_path)\n"
   ]
  },
  {
   "cell_type": "code",
   "execution_count": 14,
   "id": "91225dba-5017-475d-9e22-23cbd9ff1ebd",
   "metadata": {},
   "outputs": [
    {
     "name": "stdout",
     "output_type": "stream",
     "text": [
      "['scenario', 'log_name', 'scenario_type', 'num_scenarios', 'planner_name', 'aggregator_type', 'corners_in_drivable_area', 'drivable_area_compliance', 'driving_direction_compliance', 'ego_is_comfortable', 'ego_is_making_progress', 'ego_jerk', 'ego_lane_change', 'ego_lat_acceleration', 'ego_lon_acceleration', 'ego_lon_jerk', 'ego_progress_along_expert_route', 'ego_yaw_acceleration', 'ego_yaw_rate', 'no_ego_at_fault_collisions', 'speed_limit_compliance', 'time_to_collision_within_bound', 'score']\n"
     ]
    }
   ],
   "source": [
    "print(df.columns.tolist())\n"
   ]
  },
  {
   "cell_type": "code",
   "execution_count": 15,
   "id": "e7b9338a-44ac-4588-81c2-24bf84275014",
   "metadata": {},
   "outputs": [
    {
     "name": "stdout",
     "output_type": "stream",
     "text": [
      "Numeric columns: ['num_scenarios', 'drivable_area_compliance', 'driving_direction_compliance', 'ego_is_comfortable', 'ego_is_making_progress', 'ego_progress_along_expert_route', 'no_ego_at_fault_collisions', 'speed_limit_compliance', 'time_to_collision_within_bound', 'score']\n"
     ]
    }
   ],
   "source": [
    "numeric_cols = df.select_dtypes(include='number').columns.tolist()\n",
    "print(\"Numeric columns:\", numeric_cols)\n"
   ]
  },
  {
   "cell_type": "code",
   "execution_count": 16,
   "id": "add69a6e-c282-4c23-8234-0b5569316848",
   "metadata": {},
   "outputs": [
    {
     "name": "stdout",
     "output_type": "stream",
     "text": [
      "Metric columns: ['num_scenarios', 'drivable_area_compliance', 'driving_direction_compliance', 'ego_is_comfortable', 'ego_is_making_progress', 'ego_progress_along_expert_route', 'no_ego_at_fault_collisions', 'speed_limit_compliance', 'time_to_collision_within_bound', 'score']\n",
      "                                  count        mean         std        min  \\\n",
      "num_scenarios                      15.0  149.066667  269.688303  14.000000   \n",
      "drivable_area_compliance         1133.0    1.940850    9.151603   0.000000   \n",
      "driving_direction_compliance     1133.0    1.964691    9.271956   0.000000   \n",
      "ego_is_comfortable               1133.0    1.873741    8.851396   0.000000   \n",
      "ego_is_making_progress           1133.0    1.972638    9.311462   0.000000   \n",
      "ego_progress_along_expert_route  1133.0    1.859648    8.770477   0.066343   \n",
      "no_ego_at_fault_collisions       1133.0    1.898466    8.955840   0.000000   \n",
      "speed_limit_compliance           1133.0    1.919983    9.070978   0.000000   \n",
      "time_to_collision_within_bound   1133.0    1.788973    8.479175   0.000000   \n",
      "score                            1133.0    0.898250    0.236239   0.000000   \n",
      "\n",
      "                                       25%        50%   75%          max  \n",
      "num_scenarios                    77.500000  98.000000  99.0  1118.000000  \n",
      "drivable_area_compliance          1.000000   1.000000   1.0    98.000000  \n",
      "driving_direction_compliance      1.000000   1.000000   1.0   100.000000  \n",
      "ego_is_comfortable                1.000000   1.000000   1.0    99.000000  \n",
      "ego_is_making_progress            1.000000   1.000000   1.0   100.000000  \n",
      "ego_progress_along_expert_route   0.922213   0.999989   1.0    96.034114  \n",
      "no_ego_at_fault_collisions        1.000000   1.000000   1.0    97.000000  \n",
      "speed_limit_compliance            1.000000   1.000000   1.0    98.447633  \n",
      "time_to_collision_within_bound    1.000000   1.000000   1.0    97.000000  \n",
      "score                             0.937138   0.988461   1.0     1.000000  \n"
     ]
    }
   ],
   "source": [
    "metadata = {\n",
    "    \"compute_trajectory_runtimes_mean\",\n",
    "    \"compute_trajectory_runtimes_median\",\n",
    "    \"compute_trajectory_runtimes_std\",\n",
    "    \"duration\",\n",
    "    # …and any other purely metadata columns you saw\n",
    "}\n",
    "metric_cols = [c for c in numeric_cols if c not in metadata]\n",
    "print(\"Metric columns:\", metric_cols)\n",
    "\n",
    "if metric_cols:\n",
    "    print(df[metric_cols].describe().T)\n",
    "else:\n",
    "    print(\"No metric columns found—did you run evaluation?\")\n"
   ]
  },
  {
   "cell_type": "code",
   "execution_count": null,
   "id": "2bea868e-6825-4c04-a371-f2fd0068a340",
   "metadata": {},
   "outputs": [],
   "source": []
  }
 ],
 "metadata": {
  "kernelspec": {
   "display_name": "Python 3 (ipykernel)",
   "language": "python",
   "name": "python3"
  },
  "language_info": {
   "codemirror_mode": {
    "name": "ipython",
    "version": 3
   },
   "file_extension": ".py",
   "mimetype": "text/x-python",
   "name": "python",
   "nbconvert_exporter": "python",
   "pygments_lexer": "ipython3",
   "version": "3.9.5"
  }
 },
 "nbformat": 4,
 "nbformat_minor": 5
}
