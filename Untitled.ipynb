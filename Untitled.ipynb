{
 "cells": [
  {
   "cell_type": "code",
   "execution_count": 9,
   "id": "af0d0b21-13e7-4da0-baff-b37b9bb8cc4d",
   "metadata": {},
   "outputs": [
    {
     "name": "stdout",
     "output_type": "stream",
     "text": [
      "INFO:nuplan.planning.script.utils:Setting default NUPLAN_DATA_ROOT: /root/nuplan/dataset\n",
      "INFO:nuplan.planning.script.utils:Setting default NUPLAN_EXP_ROOT: /root/nuplan/exp\n",
      "Error executing job with overrides: ['scenario_builder=nuplan', 'scenario_builder.db_files=/datasets/nuplan/nuplan-v1.1/splits/val', 'simulation_path=/workspace/experiments/exp/simulation/closed_loop_nonreactive_agents/diffusion_planner/val14/diffusion_planner_release/model_2025-04-09-17-34-09', 'port_number=6599', '+address=0.0.0.0', '+allow_websocket_origin=*']\n",
      "Traceback (most recent call last):\n",
      "  File \"/usr/local/lib/python3.9/dist-packages/omegaconf/resolvers/oc/__init__.py\", line 33, in env\n",
      "    return os.environ[key]\n",
      "  File \"/usr/lib/python3.9/os.py\", line 679, in __getitem__\n",
      "    raise KeyError(key) from None\n",
      "KeyError: 'NUPLAN_MAPS_ROOT'\n",
      "\n",
      "During handling of the above exception, another exception occurred:\n",
      "\n",
      "Traceback (most recent call last):\n",
      "  File \"/usr/local/lib/python3.9/dist-packages/omegaconf/base.py\", line 662, in resolve_parse_tree\n",
      "    return visitor.visit(parse_tree)\n",
      "  File \"/usr/local/lib/python3.9/dist-packages/antlr4/tree/Tree.py\", line 34, in visit\n",
      "    return tree.accept(self)\n",
      "  File \"/usr/local/lib/python3.9/dist-packages/omegaconf/grammar/gen/OmegaConfGrammarParser.py\", line 205, in accept\n",
      "    return visitor.visitConfigValue(self)\n",
      "  File \"/usr/local/lib/python3.9/dist-packages/omegaconf/grammar_visitor.py\", line 101, in visitConfigValue\n",
      "    return self.visit(ctx.getChild(0))\n",
      "  File \"/usr/local/lib/python3.9/dist-packages/antlr4/tree/Tree.py\", line 34, in visit\n",
      "    return tree.accept(self)\n",
      "  File \"/usr/local/lib/python3.9/dist-packages/omegaconf/grammar/gen/OmegaConfGrammarParser.py\", line 339, in accept\n",
      "    return visitor.visitText(self)\n",
      "  File \"/usr/local/lib/python3.9/dist-packages/omegaconf/grammar_visitor.py\", line 298, in visitText\n",
      "    return self.visitInterpolation(c)\n",
      "  File \"/usr/local/lib/python3.9/dist-packages/omegaconf/grammar_visitor.py\", line 125, in visitInterpolation\n",
      "    return self.visit(ctx.getChild(0))\n",
      "  File \"/usr/local/lib/python3.9/dist-packages/antlr4/tree/Tree.py\", line 34, in visit\n",
      "    return tree.accept(self)\n",
      "  File \"/usr/local/lib/python3.9/dist-packages/omegaconf/grammar/gen/OmegaConfGrammarParser.py\", line 1030, in accept\n",
      "    return visitor.visitInterpolationResolver(self)\n",
      "  File \"/usr/local/lib/python3.9/dist-packages/omegaconf/grammar_visitor.py\", line 179, in visitInterpolationResolver\n",
      "    return self.resolver_interpolation_callback(\n",
      "  File \"/usr/local/lib/python3.9/dist-packages/omegaconf/base.py\", line 648, in resolver_interpolation_callback\n",
      "    return self._evaluate_custom_resolver(\n",
      "  File \"/usr/local/lib/python3.9/dist-packages/omegaconf/base.py\", line 591, in _evaluate_custom_resolver\n",
      "    return resolver(\n",
      "  File \"/usr/local/lib/python3.9/dist-packages/omegaconf/omegaconf.py\", line 435, in resolver_wrapper\n",
      "    ret = resolver(*args, **kwargs)\n",
      "  File \"/usr/local/lib/python3.9/dist-packages/omegaconf/resolvers/oc/__init__.py\", line 38, in env\n",
      "    raise KeyError(f\"Environment variable '{key}' not found\")\n",
      "KeyError: \"Environment variable 'NUPLAN_MAPS_ROOT' not found\"\n",
      "\n",
      "During handling of the above exception, another exception occurred:\n",
      "\n",
      "Traceback (most recent call last):\n",
      "  File \"/workspace/Diffusion-Planner/nuplan-devkit/nuplan/planning/script/run_nuboard.py\", line 73, in main\n",
      "    nuboard = initialize_nuboard(cfg)\n",
      "  File \"/workspace/Diffusion-Planner/nuplan-devkit/nuplan/planning/script/run_nuboard.py\", line 43, in initialize_nuboard\n",
      "    update_config_for_nuboard(cfg=cfg)\n",
      "  File \"/workspace/Diffusion-Planner/nuplan-devkit/nuplan/planning/script/builders/utils/utils_config.py\", line 97, in update_config_for_nuboard\n",
      "    OmegaConf.resolve(cfg)\n",
      "omegaconf.errors.InterpolationResolutionError: KeyError raised while resolving interpolation: \"Environment variable 'NUPLAN_MAPS_ROOT' not found\"\n",
      "\n",
      "Set the environment variable HYDRA_FULL_ERROR=1 for a complete stack trace.\n"
     ]
    }
   ],
   "source": [
    "! python -m nuplan.planning.script.run_nuboard \\\n",
    "  scenario_builder=nuplan \\\n",
    "  scenario_builder.db_files=/datasets/nuplan/nuplan-v1.1/splits/val \\\n",
    "  simulation_path=/workspace/experiments/exp/simulation/closed_loop_nonreactive_agents/diffusion_planner/val14/diffusion_planner_release/model_2025-04-09-17-34-09 \\\n",
    "  port_number=6599 \\\n",
    "  +address=0.0.0.0 \\\n",
    "  +allow_websocket_origin=*"
   ]
  },
  {
   "cell_type": "code",
   "execution_count": 5,
   "id": "84066c14-5b2c-4b87-8b0b-7f909d59e5c5",
   "metadata": {},
   "outputs": [],
   "source": [
    "!cd /workspace/Diffusion-Planner/nuplan-devkit\n"
   ]
  },
  {
   "cell_type": "code",
   "execution_count": 8,
   "id": "f495bcf7-aa4c-48b5-a805-4a268473f0a1",
   "metadata": {},
   "outputs": [],
   "source": [
    "RESULT_FOLDER = \"/workspace/experiments/exp/simulation/closed_loop_nonreactive_agents/diffusion_planner/val14/diffusion_planner_release/model_2025-04-09-17-34-09\"\n",
    "env_variables = {\n",
    "    \"NUPLAN_DEVKIT_ROOT\": \"/workspace/nuplan-devkit\",\n",
    "    \"NUPLAN_DATA_ROOT\": \"/datasets\",\n",
    "    \"NUPLAN_MAPS_ROOT\": \"/datasets/nuplan/maps\",\n",
    "    \"NUPLAN_EXP_ROOT\": \"/workspace/experiments\",\n",
    "    \"NUPLAN_DB_FILES\": \"/datasets/nuplan/nuplan-v1.1/splits/val\",\n",
    "    \"NUPLAN_SIMULATION_ALLOW_ANY_BUILDER\": \"1\"\n",
    "}"
   ]
  },
  {
   "cell_type": "code",
   "execution_count": 17,
   "id": "94098dbe-c96c-4552-9819-130166e7ba4c",
   "metadata": {},
   "outputs": [
    {
     "name": "stdout",
     "output_type": "stream",
     "text": [
      "Running command: python -m nuplan.planning.script.run_nuboard scenario_builder=nuplan scenario_builder.db_files=/datasets/nuplan/nuplan-v1.1/splits/val simulation_path=/workspace/experiments/exp/simulation/closed_loop_nonreactive_agents/diffusion_planner/val14/diffusion_planner_release/model_2025-04-09-17-34-09 port_number=6599\n"
     ]
    },
    {
     "name": "stderr",
     "output_type": "stream",
     "text": [
      "INFO:nuplan.planning.script.builders.scenario_building_builder:Building AbstractScenarioBuilder...\n",
      "INFO:nuplan.planning.script.builders.scenario_building_builder:Building AbstractScenarioBuilder...DONE!\n",
      "INFO:nuplan.planning.nuboard.nuboard:Opening Bokeh application on http://localhost:6599/\n",
      "INFO:nuplan.planning.nuboard.nuboard:Async rendering is set to: True\n",
      "INFO:bokeh.server.server:Starting Bokeh server version 2.4.3 (running on Tornado 6.4.2)\n",
      "WARNING:bokeh.server.util:Host wildcard '*' will allow connections originating from multiple (or possibly all) hostnames or IPs. Use non-wildcard values to restrict access explicitly\n",
      "INFO:bokeh.server.tornado:User authentication hooks NOT provided (default user enabled)\n",
      "Traceback (most recent call last):\n",
      "  File \"/usr/lib/python3.9/runpy.py\", line 197, in _run_module_as_main\n",
      "    return _run_code(code, main_globals, None,\n",
      "  File \"/usr/lib/python3.9/runpy.py\", line 87, in _run_code\n",
      "    exec(code, run_globals)\n",
      "  File \"/workspace/nuplan-devkit/nuplan/planning/script/run_nuboard.py\", line 78, in <module>\n",
      "    main()\n",
      "  File \"/usr/local/lib/python3.9/dist-packages/hydra/main.py\", line 49, in decorated_main\n",
      "    _run_hydra(\n",
      "  File \"/usr/local/lib/python3.9/dist-packages/hydra/_internal/utils.py\", line 367, in _run_hydra\n",
      "    run_and_report(\n",
      "  File \"/usr/local/lib/python3.9/dist-packages/hydra/_internal/utils.py\", line 211, in run_and_report\n",
      "    return func()\n",
      "  File \"/usr/local/lib/python3.9/dist-packages/hydra/_internal/utils.py\", line 368, in <lambda>\n",
      "    lambda: hydra.run(\n",
      "  File \"/usr/local/lib/python3.9/dist-packages/hydra/_internal/hydra.py\", line 97, in run\n",
      "    ret = run_job(\n",
      "  File \"/usr/local/lib/python3.9/dist-packages/hydra/core/utils.py\", line 160, in run_job\n",
      "    ret.return_value = task_function(task_cfg)\n",
      "  File \"/workspace/nuplan-devkit/nuplan/planning/script/run_nuboard.py\", line 74, in main\n",
      "    nuboard.run()\n",
      "  File \"/workspace/nuplan-devkit/nuplan/planning/nuboard/nuboard.py\", line 112, in run\n",
      "    io_loop.start()\n",
      "  File \"/usr/local/lib/python3.9/dist-packages/tornado/platform/asyncio.py\", line 205, in start\n",
      "    self.asyncio_loop.run_forever()\n",
      "  File \"/usr/local/lib/python3.9/dist-packages/nest_asyncio.py\", line 81, in run_forever\n",
      "    self._run_once()\n",
      "  File \"/usr/local/lib/python3.9/dist-packages/nest_asyncio.py\", line 115, in _run_once\n",
      "    event_list = self._selector.select(timeout)\n",
      "  File \"/usr/lib/python3.9/selectors.py\", line 469, in select\n",
      "    fd_event_list = self._selector.poll(timeout, max_ev)\n",
      "KeyboardInterrupt\n"
     ]
    },
    {
     "ename": "KeyboardInterrupt",
     "evalue": "",
     "output_type": "error",
     "traceback": [
      "\u001b[0;31m---------------------------------------------------------------------------\u001b[0m",
      "\u001b[0;31mKeyboardInterrupt\u001b[0m                         Traceback (most recent call last)",
      "Cell \u001b[0;32mIn[17], line 27\u001b[0m\n\u001b[1;32m     24\u001b[0m \u001b[38;5;28mprint\u001b[39m(\u001b[38;5;124m\"\u001b[39m\u001b[38;5;124mRunning command:\u001b[39m\u001b[38;5;124m\"\u001b[39m, \u001b[38;5;124m\"\u001b[39m\u001b[38;5;124m \u001b[39m\u001b[38;5;124m\"\u001b[39m\u001b[38;5;241m.\u001b[39mjoin(cmd))\n\u001b[1;32m     26\u001b[0m \u001b[38;5;66;03m# Run in the current process\u001b[39;00m\n\u001b[0;32m---> 27\u001b[0m \u001b[43msubprocess\u001b[49m\u001b[38;5;241;43m.\u001b[39;49m\u001b[43mrun\u001b[49m\u001b[43m(\u001b[49m\u001b[43mcmd\u001b[49m\u001b[43m,\u001b[49m\u001b[43m \u001b[49m\u001b[43mcwd\u001b[49m\u001b[38;5;241;43m=\u001b[39;49m\u001b[38;5;124;43m\"\u001b[39;49m\u001b[38;5;124;43m/workspace/nuplan-devkit\u001b[39;49m\u001b[38;5;124;43m\"\u001b[39;49m\u001b[43m)\u001b[49m\n",
      "File \u001b[0;32m/usr/lib/python3.9/subprocess.py:507\u001b[0m, in \u001b[0;36mrun\u001b[0;34m(input, capture_output, timeout, check, *popenargs, **kwargs)\u001b[0m\n\u001b[1;32m    505\u001b[0m \u001b[38;5;28;01mwith\u001b[39;00m Popen(\u001b[38;5;241m*\u001b[39mpopenargs, \u001b[38;5;241m*\u001b[39m\u001b[38;5;241m*\u001b[39mkwargs) \u001b[38;5;28;01mas\u001b[39;00m process:\n\u001b[1;32m    506\u001b[0m     \u001b[38;5;28;01mtry\u001b[39;00m:\n\u001b[0;32m--> 507\u001b[0m         stdout, stderr \u001b[38;5;241m=\u001b[39m \u001b[43mprocess\u001b[49m\u001b[38;5;241;43m.\u001b[39;49m\u001b[43mcommunicate\u001b[49m\u001b[43m(\u001b[49m\u001b[38;5;28;43minput\u001b[39;49m\u001b[43m,\u001b[49m\u001b[43m \u001b[49m\u001b[43mtimeout\u001b[49m\u001b[38;5;241;43m=\u001b[39;49m\u001b[43mtimeout\u001b[49m\u001b[43m)\u001b[49m\n\u001b[1;32m    508\u001b[0m     \u001b[38;5;28;01mexcept\u001b[39;00m TimeoutExpired \u001b[38;5;28;01mas\u001b[39;00m exc:\n\u001b[1;32m    509\u001b[0m         process\u001b[38;5;241m.\u001b[39mkill()\n",
      "File \u001b[0;32m/usr/lib/python3.9/subprocess.py:1126\u001b[0m, in \u001b[0;36mPopen.communicate\u001b[0;34m(self, input, timeout)\u001b[0m\n\u001b[1;32m   1124\u001b[0m         stderr \u001b[38;5;241m=\u001b[39m \u001b[38;5;28mself\u001b[39m\u001b[38;5;241m.\u001b[39mstderr\u001b[38;5;241m.\u001b[39mread()\n\u001b[1;32m   1125\u001b[0m         \u001b[38;5;28mself\u001b[39m\u001b[38;5;241m.\u001b[39mstderr\u001b[38;5;241m.\u001b[39mclose()\n\u001b[0;32m-> 1126\u001b[0m     \u001b[38;5;28;43mself\u001b[39;49m\u001b[38;5;241;43m.\u001b[39;49m\u001b[43mwait\u001b[49m\u001b[43m(\u001b[49m\u001b[43m)\u001b[49m\n\u001b[1;32m   1127\u001b[0m \u001b[38;5;28;01melse\u001b[39;00m:\n\u001b[1;32m   1128\u001b[0m     \u001b[38;5;28;01mif\u001b[39;00m timeout \u001b[38;5;129;01mis\u001b[39;00m \u001b[38;5;129;01mnot\u001b[39;00m \u001b[38;5;28;01mNone\u001b[39;00m:\n",
      "File \u001b[0;32m/usr/lib/python3.9/subprocess.py:1189\u001b[0m, in \u001b[0;36mPopen.wait\u001b[0;34m(self, timeout)\u001b[0m\n\u001b[1;32m   1187\u001b[0m     endtime \u001b[38;5;241m=\u001b[39m _time() \u001b[38;5;241m+\u001b[39m timeout\n\u001b[1;32m   1188\u001b[0m \u001b[38;5;28;01mtry\u001b[39;00m:\n\u001b[0;32m-> 1189\u001b[0m     \u001b[38;5;28;01mreturn\u001b[39;00m \u001b[38;5;28;43mself\u001b[39;49m\u001b[38;5;241;43m.\u001b[39;49m\u001b[43m_wait\u001b[49m\u001b[43m(\u001b[49m\u001b[43mtimeout\u001b[49m\u001b[38;5;241;43m=\u001b[39;49m\u001b[43mtimeout\u001b[49m\u001b[43m)\u001b[49m\n\u001b[1;32m   1190\u001b[0m \u001b[38;5;28;01mexcept\u001b[39;00m \u001b[38;5;167;01mKeyboardInterrupt\u001b[39;00m:\n\u001b[1;32m   1191\u001b[0m     \u001b[38;5;66;03m# https://bugs.python.org/issue25942\u001b[39;00m\n\u001b[1;32m   1192\u001b[0m     \u001b[38;5;66;03m# The first keyboard interrupt waits briefly for the child to\u001b[39;00m\n\u001b[1;32m   1193\u001b[0m     \u001b[38;5;66;03m# exit under the common assumption that it also received the ^C\u001b[39;00m\n\u001b[1;32m   1194\u001b[0m     \u001b[38;5;66;03m# generated SIGINT and will exit rapidly.\u001b[39;00m\n\u001b[1;32m   1195\u001b[0m     \u001b[38;5;28;01mif\u001b[39;00m timeout \u001b[38;5;129;01mis\u001b[39;00m \u001b[38;5;129;01mnot\u001b[39;00m \u001b[38;5;28;01mNone\u001b[39;00m:\n",
      "File \u001b[0;32m/usr/lib/python3.9/subprocess.py:1917\u001b[0m, in \u001b[0;36mPopen._wait\u001b[0;34m(self, timeout)\u001b[0m\n\u001b[1;32m   1915\u001b[0m \u001b[38;5;28;01mif\u001b[39;00m \u001b[38;5;28mself\u001b[39m\u001b[38;5;241m.\u001b[39mreturncode \u001b[38;5;129;01mis\u001b[39;00m \u001b[38;5;129;01mnot\u001b[39;00m \u001b[38;5;28;01mNone\u001b[39;00m:\n\u001b[1;32m   1916\u001b[0m     \u001b[38;5;28;01mbreak\u001b[39;00m  \u001b[38;5;66;03m# Another thread waited.\u001b[39;00m\n\u001b[0;32m-> 1917\u001b[0m (pid, sts) \u001b[38;5;241m=\u001b[39m \u001b[38;5;28;43mself\u001b[39;49m\u001b[38;5;241;43m.\u001b[39;49m\u001b[43m_try_wait\u001b[49m\u001b[43m(\u001b[49m\u001b[38;5;241;43m0\u001b[39;49m\u001b[43m)\u001b[49m\n\u001b[1;32m   1918\u001b[0m \u001b[38;5;66;03m# Check the pid and loop as waitpid has been known to\u001b[39;00m\n\u001b[1;32m   1919\u001b[0m \u001b[38;5;66;03m# return 0 even without WNOHANG in odd situations.\u001b[39;00m\n\u001b[1;32m   1920\u001b[0m \u001b[38;5;66;03m# http://bugs.python.org/issue14396.\u001b[39;00m\n\u001b[1;32m   1921\u001b[0m \u001b[38;5;28;01mif\u001b[39;00m pid \u001b[38;5;241m==\u001b[39m \u001b[38;5;28mself\u001b[39m\u001b[38;5;241m.\u001b[39mpid:\n",
      "File \u001b[0;32m/usr/lib/python3.9/subprocess.py:1875\u001b[0m, in \u001b[0;36mPopen._try_wait\u001b[0;34m(self, wait_flags)\u001b[0m\n\u001b[1;32m   1873\u001b[0m \u001b[38;5;250m\u001b[39m\u001b[38;5;124;03m\"\"\"All callers to this function MUST hold self._waitpid_lock.\"\"\"\u001b[39;00m\n\u001b[1;32m   1874\u001b[0m \u001b[38;5;28;01mtry\u001b[39;00m:\n\u001b[0;32m-> 1875\u001b[0m     (pid, sts) \u001b[38;5;241m=\u001b[39m \u001b[43mos\u001b[49m\u001b[38;5;241;43m.\u001b[39;49m\u001b[43mwaitpid\u001b[49m\u001b[43m(\u001b[49m\u001b[38;5;28;43mself\u001b[39;49m\u001b[38;5;241;43m.\u001b[39;49m\u001b[43mpid\u001b[49m\u001b[43m,\u001b[49m\u001b[43m \u001b[49m\u001b[43mwait_flags\u001b[49m\u001b[43m)\u001b[49m\n\u001b[1;32m   1876\u001b[0m \u001b[38;5;28;01mexcept\u001b[39;00m \u001b[38;5;167;01mChildProcessError\u001b[39;00m:\n\u001b[1;32m   1877\u001b[0m     \u001b[38;5;66;03m# This happens if SIGCLD is set to be ignored or waiting\u001b[39;00m\n\u001b[1;32m   1878\u001b[0m     \u001b[38;5;66;03m# for child processes has otherwise been disabled for our\u001b[39;00m\n\u001b[1;32m   1879\u001b[0m     \u001b[38;5;66;03m# process.  This child is dead, we can't get the status.\u001b[39;00m\n\u001b[1;32m   1880\u001b[0m     pid \u001b[38;5;241m=\u001b[39m \u001b[38;5;28mself\u001b[39m\u001b[38;5;241m.\u001b[39mpid\n",
      "\u001b[0;31mKeyboardInterrupt\u001b[0m: "
     ]
    }
   ],
   "source": [
    "import os\n",
    "import subprocess\n",
    "\n",
    "# Set all required environment variables\n",
    "os.environ[\"NUPLAN_DEVKIT_ROOT\"] = \"/workspace/nuplan-devkit\"\n",
    "os.environ[\"NUPLAN_DATA_ROOT\"] = \"/datasets/nuplan\"\n",
    "os.environ[\"NUPLAN_MAPS_ROOT\"] = \"/datasets/nuplan/maps\"\n",
    "os.environ[\"NUPLAN_EXP_ROOT\"] = \"/workspace/experiments\"\n",
    "os.environ[\"NUPLAN_DB_FILES\"] = \"/datasets/nuplan/nuplan-v1.1/splits/val\"\n",
    "os.environ[\"NUPLAN_SIMULATION_ALLOW_ANY_BUILDER\"] = \"1\"\n",
    "os.environ[\"BOKEH_ALLOW_WS_ORIGIN\"] = \"*\"\n",
    "os.environ[\"BOKEH_ADDR\"] = \"0.0.0.0\"\n",
    "\n",
    "# Run the nuboard command\n",
    "cmd = [\n",
    "    \"python\", \"-m\", \"nuplan.planning.script.run_nuboard\",\n",
    "    \"scenario_builder=nuplan\",\n",
    "    \"scenario_builder.db_files=/datasets/nuplan/nuplan-v1.1/splits/val\",\n",
    "    f\"simulation_path=/workspace/experiments/exp/simulation/closed_loop_nonreactive_agents/diffusion_planner/val14/diffusion_planner_release/model_2025-04-09-17-34-09\",\n",
    "    \"port_number=6599\"\n",
    "]\n",
    "\n",
    "# Print command for debugging\n",
    "print(\"Running command:\", \" \".join(cmd))\n",
    "\n",
    "# Run in the current process\n",
    "subprocess.run(cmd, cwd=\"/workspace/nuplan-devkit\")"
   ]
  },
  {
   "cell_type": "code",
   "execution_count": 1,
   "id": "45c8a837-a3cb-4be5-bc43-9cee489e1424",
   "metadata": {},
   "outputs": [
    {
     "name": "stdout",
     "output_type": "stream",
     "text": [
      "Running command: python -m nuplan.planning.script.run_nuboard scenario_builder=nuplan scenario_builder.db_files=/datasets/nuplan/nuplan-v1.1/splits/val simulation_path=/workspace/experiments/exp/simulation/closed_loop_nonreactive_agents/diffusion_planner/val14/diffusion_planner_release/model_2025-04-09-17-34-09 port_number=6599 nuboard.args.address=0.0.0.0 +nuboard.args.allow_websocket_origin=*\n"
     ]
    },
    {
     "name": "stderr",
     "output_type": "stream",
     "text": [
      "Could not override 'nuboard.args.address'.\n",
      "To append to your config use +nuboard.args.address=0.0.0.0\n",
      "Key 'nuboard' is not in struct\n",
      "    full_key: nuboard\n",
      "    object_type=dict\n",
      "\n",
      "Set the environment variable HYDRA_FULL_ERROR=1 for a complete stack trace.\n"
     ]
    },
    {
     "data": {
      "text/plain": [
       "CompletedProcess(args=['python', '-m', 'nuplan.planning.script.run_nuboard', 'scenario_builder=nuplan', 'scenario_builder.db_files=/datasets/nuplan/nuplan-v1.1/splits/val', 'simulation_path=/workspace/experiments/exp/simulation/closed_loop_nonreactive_agents/diffusion_planner/val14/diffusion_planner_release/model_2025-04-09-17-34-09', 'port_number=6599', 'nuboard.args.address=0.0.0.0', '+nuboard.args.allow_websocket_origin=*'], returncode=1)"
      ]
     },
     "execution_count": 1,
     "metadata": {},
     "output_type": "execute_result"
    }
   ],
   "source": [
    "import os\n",
    "import subprocess\n",
    "\n",
    "# Set all required environment variables\n",
    "os.environ[\"NUPLAN_DEVKIT_ROOT\"] = \"/workspace/nuplan-devkit\"\n",
    "os.environ[\"NUPLAN_DATA_ROOT\"] = \"/datasets/nuplan\"\n",
    "os.environ[\"NUPLAN_MAPS_ROOT\"] = \"/datasets/nuplan/maps\"\n",
    "os.environ[\"NUPLAN_EXP_ROOT\"] = \"/workspace/experiments\"\n",
    "os.environ[\"NUPLAN_DB_FILES\"] = \"/datasets/nuplan/nuplan-v1.1/splits/val\"\n",
    "os.environ[\"NUPLAN_SIMULATION_ALLOW_ANY_BUILDER\"] = \"1\"\n",
    "os.environ[\"BOKEH_ALLOW_WS_ORIGIN\"] = \"*\"\n",
    "os.environ[\"BOKEH_ADDR\"] = \"0.0.0.0\"\n",
    "\n",
    "# Run the nuboard command with explicit address parameter\n",
    "cmd = [\n",
    "    \"python\", \"-m\", \"nuplan.planning.script.run_nuboard\",\n",
    "    \"scenario_builder=nuplan\",\n",
    "    \"scenario_builder.db_files=/datasets/nuplan/nuplan-v1.1/splits/val\",\n",
    "    f\"simulation_path=/workspace/experiments/exp/simulation/closed_loop_nonreactive_agents/diffusion_planner/val14/diffusion_planner_release/model_2025-04-09-17-34-09\",\n",
    "    \"port_number=6599\",\n",
    "    \"nuboard.args.address=0.0.0.0\",  # Critical parameter\n",
    "    \"+nuboard.args.allow_websocket_origin=*\"  # Critical parameter\n",
    "]\n",
    "\n",
    "# Print command for debugging\n",
    "print(\"Running command:\", \" \".join(cmd))\n",
    "\n",
    "# Run in the current process\n",
    "subprocess.run(cmd, cwd=\"/workspace/Diffusion-Planner/nuplan-devkit\")"
   ]
  },
  {
   "cell_type": "code",
   "execution_count": 1,
   "id": "8e9414a0-eb49-4bc4-a3fa-46845fcaeee6",
   "metadata": {},
   "outputs": [
    {
     "name": "stdout",
     "output_type": "stream",
     "text": [
      "Starting nuBoard server...\n"
     ]
    },
    {
     "name": "stderr",
     "output_type": "stream",
     "text": [
      "2025-04-09 21:11:26,006 Starting Bokeh server version 2.4.3 (running on Tornado 6.4.2)\n",
      "2025-04-09 21:11:26,006 Host wildcard '*' will allow connections originating from multiple (or possibly all) hostnames or IPs. Use non-wildcard values to restrict access explicitly\n",
      "2025-04-09 21:11:26,007 User authentication hooks NOT provided (default user enabled)\n",
      "2025-04-09 21:11:26,009 Bokeh app running at: http://0.0.0.0:6599/nuboard\n",
      "2025-04-09 21:11:26,009 Starting Bokeh server with process id: 81458\n"
     ]
    },
    {
     "name": "stdout",
     "output_type": "stream",
     "text": [
      "nuBoard server started! Available at http://YOUR_HOST_IP:6599\n",
      "Process ID: 81458\n"
     ]
    },
    {
     "data": {
      "text/html": [
       "\n",
       "        <iframe\n",
       "            width=\"1000\"\n",
       "            height=\"600\"\n",
       "            src=\"http://localhost:6599\"\n",
       "            frameborder=\"0\"\n",
       "            allowfullscreen\n",
       "            \n",
       "        ></iframe>\n",
       "        "
      ],
      "text/plain": [
       "<IPython.lib.display.IFrame at 0x7c4d9e6b31f0>"
      ]
     },
     "execution_count": 1,
     "metadata": {},
     "output_type": "execute_result"
    },
    {
     "name": "stdout",
     "output_type": "stream",
     "text": [
      "\n",
      "Interrupted, shutting down\n"
     ]
    }
   ],
   "source": [
    "import os\n",
    "import subprocess\n",
    "import time\n",
    "\n",
    "# Set necessary environment variables\n",
    "os.environ[\"NUPLAN_DEVKIT_ROOT\"] = \"/workspace/Diffusion-Planner/nuplan-devkit\"\n",
    "os.environ[\"NUPLAN_DATA_ROOT\"] = \"/datasets/nuplan\"\n",
    "os.environ[\"NUPLAN_MAPS_ROOT\"] = \"/datasets/nuplan/maps\"\n",
    "os.environ[\"NUPLAN_EXP_ROOT\"] = \"/workspace/experiments\"\n",
    "os.environ[\"NUPLAN_DB_FILES\"] = \"/datasets/nuplan/nuplan-v1.1/splits/val\"\n",
    "os.environ[\"NUPLAN_SIMULATION_ALLOW_ANY_BUILDER\"] = \"1\"\n",
    "os.environ[\"BOKEH_ALLOW_WS_ORIGIN\"] = \"*\"\n",
    "os.environ[\"BOKEH_ADDR\"] = \"0.0.0.0\"\n",
    "\n",
    "# Define command to run nuBoard\n",
    "cmd = [\n",
    "    \"bokeh\", \"serve\", \n",
    "    \"/workspace/Diffusion-Planner/nuplan-devkit/nuplan/planning/nuboard/nuboard.py\",\n",
    "    \"--port\", \"6599\",\n",
    "    \"--address\", \"0.0.0.0\",\n",
    "    \"--allow-websocket-origin=*\",\n",
    "    \"--args\",\n",
    "    f\"simulation_path=/workspace/experiments/exp/simulation/closed_loop_nonreactive_agents/diffusion_planner/val14/diffusion_planner_release/model_2025-04-09-17-34-09\",\n",
    "    \"scenario_builder=nuplan\",\n",
    "    \"scenario_builder.db_files=/datasets/nuplan/nuplan-v1.1/splits/val\"\n",
    "]\n",
    "\n",
    "# Start nuBoard in background\n",
    "print(\"Starting nuBoard server...\")\n",
    "process = subprocess.Popen(cmd)\n",
    "\n",
    "# Wait a moment for the server to start\n",
    "time.sleep(3)\n",
    "\n",
    "print(\"nuBoard server started! Available at http://YOUR_HOST_IP:6599\")\n",
    "print(\"Process ID:\", process.pid)\n",
    "\n",
    "# Create an iframe to display nuBoard directly in the notebook\n",
    "from IPython.display import IFrame\n",
    "IFrame(src=\"http://localhost:6599\", width=1000, height=600)"
   ]
  },
  {
   "cell_type": "code",
   "execution_count": 6,
   "id": "500514ea-d067-4858-b815-0e602ad9ea82",
   "metadata": {},
   "outputs": [],
   "source": [
    "#!/bin/bash\n",
    "\n",
    "# Start nuBoard in the background\n",
    "os.environ[\"NUPLAN_DEVKIT_ROOT\"] = \"/workspace/Diffusion-Planner/nuplan-devkit\"\n",
    "os.environ[\"NUPLAN_DATA_ROOT\"] = \"/datasets/nuplan\"\n",
    "os.environ[\"NUPLAN_MAPS_ROOT\"] = \"/datasets/nuplan/maps\"\n",
    "os.environ[\"NUPLAN_EXP_ROOT\"] = \"/workspace/experiments\"\n",
    "os.environ[\"NUPLAN_DB_FILES\"] = \"/datasets/nuplan/nuplan-v1.1/splits/val\"\n",
    "os.environ[\"NUPLAN_SIMULATION_ALLOW_ANY_BUILDER\"] = \"1\"\n",
    "os.environ[\"BOKEH_ALLOW_WS_ORIGIN\"] = \"*\"\n",
    "os.environ[\"BOKEH_ADDR\"] = \"0.0.0.0\"\n",
    "\n"
   ]
  },
  {
   "cell_type": "code",
   "execution_count": 7,
   "id": "0640b30f-ecd5-47ca-b673-7840de8aeede",
   "metadata": {},
   "outputs": [],
   "source": [
    "! cd /workspace/Diffusion-Planner/nuplan-devkit\n"
   ]
  },
  {
   "cell_type": "code",
   "execution_count": 8,
   "id": "9c82eddc-e5f3-4487-ae3c-2723de149d17",
   "metadata": {},
   "outputs": [
    {
     "ename": "SyntaxError",
     "evalue": "invalid syntax (3430899188.py, line 1)",
     "output_type": "error",
     "traceback": [
      "\u001b[0;36m  Cell \u001b[0;32mIn[8], line 1\u001b[0;36m\u001b[0m\n\u001b[0;31m    bokeh serve nuplan/planning/nuboard/nuboard.py \\\u001b[0m\n\u001b[0m          ^\u001b[0m\n\u001b[0;31mSyntaxError\u001b[0m\u001b[0;31m:\u001b[0m invalid syntax\n"
     ]
    }
   ],
   "source": [
    "bokeh serve nuplan/planning/nuboard/nuboard.py \\\n",
    "  --port 6599 \\\n",
    "  --address 0.0.0.0 \\\n",
    "  --allow-websocket-origin=\"*\" \\\n",
    "  --args \\\n",
    "  \"simulation_path=/workspace/experiments/exp/simulation/closed_loop_nonreactive_agents/diffusion_planner/val14/diffusion_planner_release/model_2025-04-09-17-34-09 \\\n",
    "  scenario_builder=nuplan \\\n",
    "  scenario_builder.db_files=/datasets/nuplan/nuplan-v1.1/splits/val\" &\n",
    "\n",
    "# Start Jupyter\n",
    "jupyter-notebook --ip=0.0.0.0 --port=8888 --no-browser --allow-root --NotebookApp.token='' --NotebookApp.allow_origin='*'"
   ]
  },
  {
   "cell_type": "code",
   "execution_count": null,
   "id": "4d4334d4-c8d5-41c0-bdcd-436e3216c60a",
   "metadata": {},
   "outputs": [],
   "source": []
  }
 ],
 "metadata": {
  "kernelspec": {
   "display_name": "Python 3 (ipykernel)",
   "language": "python",
   "name": "python3"
  },
  "language_info": {
   "codemirror_mode": {
    "name": "ipython",
    "version": 3
   },
   "file_extension": ".py",
   "mimetype": "text/x-python",
   "name": "python",
   "nbconvert_exporter": "python",
   "pygments_lexer": "ipython3",
   "version": "3.9.5"
  }
 },
 "nbformat": 4,
 "nbformat_minor": 5
}
